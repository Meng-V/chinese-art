{
 "cells": [
  {
   "cell_type": "code",
   "execution_count": 15,
   "metadata": {},
   "outputs": [
    {
     "name": "stdout",
     "output_type": "stream",
     "text": [
      "                                                Title  \\\n",
      "0   Clearing Autumn Skies over Mountains and Valle...   \n",
      "1                                        Wang Huan王渙像   \n",
      "2                           Portrait of Feng Ping 馮平像   \n",
      "3            Palace Ladies Playing Double-sixes 內人雙陸圖   \n",
      "4                 Palace Ladies Bathing Infants 浴嬰仕女圖   \n",
      "..                                                ...   \n",
      "80                       Wintry Trees and Sheep 寒林牧羊圖   \n",
      "81                                   Three Horses 三馬圖   \n",
      "82  Model Letters from the Chunhua Pavilion (nine ...   \n",
      "83                           Epitaph for My Nanny 保母帖   \n",
      "84  Daoist Scripture of Constant Purity and Tranqu...   \n",
      "\n",
      "   Museum Object Identifier 收藏號碼                                    URL  \\\n",
      "0                      F1916.538   https://asia.si.edu/object/F1916.538   \n",
      "1                       F1948.10    https://asia.si.edu/object/F1948.10   \n",
      "2                       F1948.11    https://asia.si.edu/object/F1948.11   \n",
      "3                       F1939.37    https://asia.si.edu/object/F1939.37   \n",
      "4                        F1935.8     https://asia.si.edu/object/F1935.8   \n",
      "..                           ...                                    ...   \n",
      "80                     F1970.33    https://asia.si.edu/object/F1970.33    \n",
      "81                     F1944.50    https://asia.si.edu/object/F1944.50    \n",
      "82                    F1980.202a  https://asia.si.edu/object/F1980.202a   \n",
      "83                       F1980.7     https://asia.si.edu/object/F1980.7   \n",
      "84                      F1980.8     https://asia.si.edu/object/F1980.8    \n",
      "\n",
      "         IIIFNumber  \n",
      "0        FS-8139_05  \n",
      "1        FS-7117_09  \n",
      "2        FS-7118_01  \n",
      "3   FS-F1939.37_001  \n",
      "4               NaN  \n",
      "..              ...  \n",
      "80              NaN  \n",
      "81              NaN  \n",
      "82              NaN  \n",
      "83              NaN  \n",
      "84              NaN  \n",
      "\n",
      "[85 rows x 4 columns]\n"
     ]
    }
   ],
   "source": [
    "# Pytohn 3.10.5\n",
    "import pandas as pd\n",
    "import requests\n",
    "import concurrent.futures\n",
    "import os\n",
    "import re\n",
    "import multiprocess as mp\n",
    "\n",
    "from urllib.parse import urlparse\n",
    "from bs4 import BeautifulSoup\n",
    "\n",
    "smith = pd.read_csv('smith.csv')\n",
    "print(smith)"
   ]
  },
  {
   "cell_type": "code",
   "execution_count": 16,
   "metadata": {},
   "outputs": [
    {
     "name": "stdout",
     "output_type": "stream",
     "text": [
      "https://ids.si.edu/ids/manifest/FS-8031_02\n"
     ]
    }
   ],
   "source": [
    "req = requests.get(\"https://asia.si.edu/object/F1980.8\")\n",
    "soup = BeautifulSoup(req.content, 'html.parser')\n",
    "iiif_div = soup.find_all('div', id='iiifModal-0')\n",
    "iiif_url = iiif_div[0].find_all('a')[0]['href']\n",
    "print(iiif_url)"
   ]
  },
  {
   "cell_type": "code",
   "execution_count": 17,
   "metadata": {},
   "outputs": [
    {
     "ename": "IndexError",
     "evalue": "list index out of range",
     "output_type": "error",
     "traceback": [
      "\u001b[0;31m---------------------------------------------------------------------------\u001b[0m",
      "\u001b[0;31mIndexError\u001b[0m                                Traceback (most recent call last)",
      "\u001b[1;32m/Users/qum/Documents/GitHub/chinese-art/smithsonian.ipynb Cell 3\u001b[0m in \u001b[0;36m6\n\u001b[1;32m      <a href='vscode-notebook-cell:/Users/qum/Documents/GitHub/chinese-art/smithsonian.ipynb#W1sZmlsZQ%3D%3D?line=3'>4</a>\u001b[0m     soup \u001b[39m=\u001b[39m BeautifulSoup(req\u001b[39m.\u001b[39mcontent, \u001b[39m'\u001b[39m\u001b[39mhtml.parser\u001b[39m\u001b[39m'\u001b[39m)\n\u001b[1;32m      <a href='vscode-notebook-cell:/Users/qum/Documents/GitHub/chinese-art/smithsonian.ipynb#W1sZmlsZQ%3D%3D?line=4'>5</a>\u001b[0m     iiif_div \u001b[39m=\u001b[39m soup\u001b[39m.\u001b[39mfind_all(\u001b[39m'\u001b[39m\u001b[39mdiv\u001b[39m\u001b[39m'\u001b[39m, \u001b[39mid\u001b[39m\u001b[39m=\u001b[39m\u001b[39m'\u001b[39m\u001b[39miiifModal-0\u001b[39m\u001b[39m'\u001b[39m)\n\u001b[0;32m----> <a href='vscode-notebook-cell:/Users/qum/Documents/GitHub/chinese-art/smithsonian.ipynb#W1sZmlsZQ%3D%3D?line=5'>6</a>\u001b[0m     iiif_url \u001b[39m=\u001b[39m iiif_div[\u001b[39m0\u001b[39;49m]\u001b[39m.\u001b[39mfind_all(\u001b[39m'\u001b[39m\u001b[39ma\u001b[39m\u001b[39m'\u001b[39m)[\u001b[39m0\u001b[39m][\u001b[39m'\u001b[39m\u001b[39mhref\u001b[39m\u001b[39m'\u001b[39m]\n\u001b[1;32m      <a href='vscode-notebook-cell:/Users/qum/Documents/GitHub/chinese-art/smithsonian.ipynb#W1sZmlsZQ%3D%3D?line=6'>7</a>\u001b[0m     url_list\u001b[39m.\u001b[39mappend(iiif_url)\n\u001b[1;32m      <a href='vscode-notebook-cell:/Users/qum/Documents/GitHub/chinese-art/smithsonian.ipynb#W1sZmlsZQ%3D%3D?line=7'>8</a>\u001b[0m smith[\u001b[39m'\u001b[39m\u001b[39mIIIF\u001b[39m\u001b[39m'\u001b[39m] \u001b[39m=\u001b[39m url_list\n",
      "\u001b[0;31mIndexError\u001b[0m: list index out of range"
     ]
    }
   ],
   "source": [
    "url_list = []\n",
    "for url in smith['URL']:\n",
    "    req = requests.get(url)\n",
    "    soup = BeautifulSoup(req.content, 'html.parser')\n",
    "    try:\n",
    "        iiif_div = soup.find_all('div', id='iiifModal-0')\n",
    "        iiif_url = iiif_div[0].find_all('a')[0]['href']\n",
    "    except:\n",
    "        iiif_url = ''\n",
    "    print(iiif_url)\n",
    "    url_list.append(iiif_url)\n",
    "smith['IIIF'] = url_list"
   ]
  },
  {
   "cell_type": "code",
   "execution_count": null,
   "metadata": {},
   "outputs": [],
   "source": [
    "smith.to_csv('smith_iiif.csv', index=False)"
   ]
  }
 ],
 "metadata": {
  "kernelspec": {
   "display_name": "Python 3",
   "language": "python",
   "name": "python3"
  },
  "language_info": {
   "codemirror_mode": {
    "name": "ipython",
    "version": 3
   },
   "file_extension": ".py",
   "mimetype": "text/x-python",
   "name": "python",
   "nbconvert_exporter": "python",
   "pygments_lexer": "ipython3",
   "version": "3.10.5"
  },
  "orig_nbformat": 4
 },
 "nbformat": 4,
 "nbformat_minor": 2
}
