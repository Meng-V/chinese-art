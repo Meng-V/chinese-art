{
 "cells": [
  {
   "cell_type": "markdown",
   "metadata": {},
   "source": [
    "#### Note: This API only works for Artifacts in the Taipei Museum of Contemporary Art. It's not for all picture collections. Use the file \"taipeiScript.ipynb\" instead."
   ]
  },
  {
   "cell_type": "code",
   "execution_count": 3,
   "metadata": {},
   "outputs": [
    {
     "name": "stdout",
     "output_type": "stream",
     "text": [
      "{\"status\":200,\"result\":[],\"error\":null}\n"
     ]
    }
   ],
   "source": [
    "import requests\n",
    "\n",
    "resultlist = []\n",
    "# for i in range(0, 1000, 50):  \n",
    "url = \"https://openapi.npm.gov.tw/v1/rest/collection/search/04027984\"\n",
    "\n",
    "headers = {\n",
    "  'apiKey': '353918b4-0c39-4211-9d42-05b507c2da2c'\n",
    "}\n",
    "\n",
    "response = requests.request(\"GET\", url, headers=headers)\n",
    "\n",
    "print(response.text)\n",
    "\n",
    "# resultlist.append(response.text)\n"
   ]
  },
  {
   "cell_type": "code",
   "execution_count": 2,
   "metadata": {},
   "outputs": [],
   "source": [
    "file = open('items2.txt','w')\n",
    "for item in resultlist:\n",
    "\tfile.write(item + \",\\n\")\n",
    "file.close()"
   ]
  },
  {
   "cell_type": "markdown",
   "metadata": {},
   "source": [
    "<!-- A smaple url to download image: \n",
    "baseURL = https://digitalarchive.npm.gov.tw/\n",
    "\n",
    "/Image/Download?imageId=617105&dept=P&cid=1198&code=1381313543 -->"
   ]
  },
  {
   "cell_type": "code",
   "execution_count": null,
   "metadata": {},
   "outputs": [],
   "source": [
    "# $('.ug-slide-wrapper.ug-slide2>.ug-item-wrapper>img')[0].getAttribute('src')"
   ]
  }
 ],
 "metadata": {
  "kernelspec": {
   "display_name": "Python 3",
   "language": "python",
   "name": "python3"
  },
  "language_info": {
   "codemirror_mode": {
    "name": "ipython",
    "version": 3
   },
   "file_extension": ".py",
   "mimetype": "text/x-python",
   "name": "python",
   "nbconvert_exporter": "python",
   "pygments_lexer": "ipython3",
   "version": "3.10.5"
  },
  "orig_nbformat": 4
 },
 "nbformat": 4,
 "nbformat_minor": 2
}
